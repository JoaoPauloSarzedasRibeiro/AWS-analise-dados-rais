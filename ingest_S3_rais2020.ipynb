{
 "cells": [
  {
   "cell_type": "code",
   "execution_count": 1,
   "metadata": {},
   "outputs": [],
   "source": [
    "#Importando boto3 para fazer a ingestão de dados no bucket\n",
    "import boto3"
   ]
  },
  {
   "cell_type": "code",
   "execution_count": 2,
   "metadata": {},
   "outputs": [],
   "source": [
    "#Criando um client no boto3 para interagir\n",
    "s3_client = boto3.client('s3')"
   ]
  },
  {
   "cell_type": "code",
   "execution_count": 3,
   "metadata": {},
   "outputs": [],
   "source": [
    "# #Inserindo os dados crus do Enem numa pasta raw-data\n",
    "# s3_client.upload_file(\"data/RAIS_VINC_PUB_NORTE.txt\",\n",
    "#                         \"datalake-tf-703165468389-rais\",\n",
    "#                         \"raw-data/rais/RAIS_VINC_PUB_NORTE.txt\")"
   ]
  },
  {
   "cell_type": "code",
   "execution_count": 4,
   "metadata": {},
   "outputs": [],
   "source": [
    "# s3_client.upload_file(\"data/RAIS_VINC_PUB_CENTRO_OESTE.txt\",\n",
    "#                         \"datalake-tf-703165468389-rais\",\n",
    "#                         \"raw-data/rais/RAIS_VINC_PUB_CENTRO_OESTE.txt\")"
   ]
  },
  {
   "cell_type": "code",
   "execution_count": 5,
   "metadata": {},
   "outputs": [],
   "source": [
    "# s3_client.upload_file(\"data/RAIS_VINC_PUB_NORDESTE.txt\",\n",
    "#                         \"datalake-tf-703165468389-rais\",\n",
    "#                         \"raw-data/rais/RAIS_VINC_PUB_NORDESTE.txt\")\n",
    "\n",
    "# s3_client.upload_file(\"data/RAIS_VINC_PUB_MG_ES_RJ.txt\",\n",
    "#                         \"datalake-tf-703165468389-rais\",\n",
    "#                         \"raw-data/rais/RAIS_VINC_PUB_MG_ES_RJ.txt\")              \n",
    "                        \n",
    "# s3_client.upload_file(\"data/RAIS_VINC_PUB_SP.txt\",\n",
    "#                         \"datalake-tf-703165468389-rais\",\n",
    "#                         \"raw-data/rais/RAIS_VINC_PUB_SP.txt\")          \n",
    "\n",
    "\n",
    "# s3_client.upload_file(\"data/RAIS_VINC_PUB_SUL.txt\",\n",
    "#                         \"datalake-tf-703165468389-rais\",\n",
    "#                         \"raw-data/rais/RAIS_VINC_PUB_SUL.txt\")"
   ]
  }
 ],
 "metadata": {
  "interpreter": {
   "hash": "f5ae38a19e60b990aa21cd87409ff8156633869ea0d6257fe7783dfcab29888b"
  },
  "kernelspec": {
   "display_name": "Python 3.6.5 ('base')",
   "language": "python",
   "name": "python3"
  },
  "language_info": {
   "codemirror_mode": {
    "name": "ipython",
    "version": 3
   },
   "file_extension": ".py",
   "mimetype": "text/x-python",
   "name": "python",
   "nbconvert_exporter": "python",
   "pygments_lexer": "ipython3",
   "version": "3.6.5"
  },
  "orig_nbformat": 4
 },
 "nbformat": 4,
 "nbformat_minor": 2
}
