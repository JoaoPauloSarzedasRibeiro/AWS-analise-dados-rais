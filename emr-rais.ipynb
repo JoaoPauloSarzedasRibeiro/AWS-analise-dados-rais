{
 "cells": [
  {
   "cell_type": "markdown",
   "metadata": {},
   "source": [
    "# RAIS 2020 - Análise e Transformação de Dados"
   ]
  },
  {
   "cell_type": "code",
   "execution_count": null,
   "metadata": {},
   "outputs": [],
   "source": [
    "from pyspark.sql import functions as f\n",
    "from pyspark.sql import SparkSession"
   ]
  },
  {
   "cell_type": "markdown",
   "metadata": {},
   "source": [
    "# Primeira coisa importante: corrigir os nomes das colunas"
   ]
  },
  {
   "cell_type": "code",
   "execution_count": null,
   "metadata": {},
   "outputs": [],
   "source": [
    "rais = (\n",
    "    spark.read\n",
    "    .csv(\"s3://igti-ney-rais-prod-landing-zone-127012818163/rais/\", inferSchema=True, header=True, sep=';', encoding=\"latin1\")\n",
    ")\n",
    "\n",
    "rais.printSchema()"
   ]
  },
  {
   "cell_type": "code",
   "execution_count": null,
   "metadata": {},
   "outputs": [],
   "source": [
    "rais.select(rais.columns[7]).show(10)"
   ]
  },
  {
   "cell_type": "code",
   "execution_count": null,
   "metadata": {},
   "outputs": [],
   "source": [
    "rais = (\n",
    "    rais\n",
    "    .withColumnRenamed('Bairros SP', 'bairros_sp')\n",
    "    .withColumnRenamed('Bairros Fortaleza', 'bairros_fortaleza')\n",
    "    .withColumnRenamed('Bairros RJ', 'bairros_rj')\n",
    "    .withColumnRenamed('Causa Afastamento 1', 'causa_afastamento_1')\n",
    "    .withColumnRenamed('Causa Afastamento 2', 'causa_afastamento_2')\n",
    "    .withColumnRenamed('Causa Afastamento 3', 'causa_afastamento_3')\n",
    "    .withColumnRenamed('Motivo Desligamento', 'motivo_desligamento')\n",
    "    .withColumnRenamed(rais.columns[7], 'cbo_ocupacao_2002')\n",
    "    .withColumnRenamed('CNAE 2.0 Classe', 'cnae_2_0_classe')\n",
    "    .withColumnRenamed('CNAE 95 Classe', 'cnae_95_classe')\n",
    "    .withColumnRenamed('Distritos SP', 'distritos_sp')\n",
    "    .withColumnRenamed(rais.columns[11], 'vinculo_ativo_31_12')\n",
    "    .withColumnRenamed(rais.columns[12], 'faixa_etaria')\n",
    "    .withColumnRenamed('Faixa Hora Contrat', 'faixa_hora_contrat')\n",
    "    .withColumnRenamed('Faixa Remun Dezem (SM)', 'faixa_remun_dezem_sm')\n",
    "    .withColumnRenamed(rais.columns[15], 'faixa_remun_media_sm')\n",
    "    .withColumnRenamed('Faixa Tempo Emprego', 'faixa_tempo_emprego')\n",
    "    .withColumnRenamed(rais.columns[17], 'escolaridade_apos_2005')\n",
    "    .withColumnRenamed('Qtd Hora Contr', 'qtd_hora_contr')\n",
    "    .withColumnRenamed('Idade', 'idade')\n",
    "    .withColumnRenamed('Ind CEI Vinculado', 'ind_cei_vinculado')\n",
    "    .withColumnRenamed('Ind Simples', 'ind_simples')\n",
    "    .withColumnRenamed(rais.columns[22], 'mes_admissao')\n",
    "    .withColumnRenamed(rais.columns[23], 'mes_desligamento')\n",
    "    .withColumnRenamed('Mun Trab', 'mun_trab')\n",
    "    .withColumnRenamed(rais.columns[25], 'municipio')\n",
    "    .withColumnRenamed('Nacionalidade', 'nacionalidade')\n",
    "    .withColumnRenamed(rais.columns[27], 'natureza_juridica')\n",
    "    .withColumnRenamed('Ind Portador Defic', 'ind_portador_defic')\n",
    "    .withColumnRenamed('Qtd Dias Afastamento', 'qtd_dias_afastamento')\n",
    "    .withColumnRenamed(rais.columns[30], 'raca_cor')\n",
    "    .withColumnRenamed(rais.columns[31], 'regioes_adm_df')\n",
    "    .withColumnRenamed('Vl Remun Dezembro Nom', 'vl_remun_dezembro_nom')\n",
    "    .withColumnRenamed('Vl Remun Dezembro (SM)', 'vl_remun_dezembro_sm')\n",
    "    .withColumnRenamed(rais.columns[34], 'vl_remun_media_nom')\n",
    "    .withColumnRenamed(rais.columns[35], 'vl_remun_media_sm')\n",
    "    .withColumnRenamed('CNAE 2.0 Subclasse', 'cnae_2_0_subclasse')\n",
    "    .withColumnRenamed('Sexo Trabalhador', 'sexo_trabalhador')\n",
    "    .withColumnRenamed('Tamanho Estabelecimento', 'tamanho_estabelecimento')\n",
    "    .withColumnRenamed('Tempo Emprego', 'tempo_emprego')\n",
    "    .withColumnRenamed(rais.columns[40], 'tipo_admissao')\n",
    "    .withColumnRenamed('Tipo Estab41', 'tipo_estab41')\n",
    "    .withColumnRenamed('Tipo Estab42', 'tipo_estab42')\n",
    "    .withColumnRenamed('Tipo Defic', 'tipo_defic')\n",
    "    .withColumnRenamed(rais.columns[44], 'tipo_vinculo')\n",
    "    .withColumnRenamed('IBGE Subsetor', 'ibge_subsetor')\n",
    "    .withColumnRenamed('Vl Rem Janeiro SC', 'vl_rem_janeiro_sc')\n",
    "    .withColumnRenamed('Vl Rem Fevereiro SC', 'vl_rem_fevereiro_sc')\n",
    "    .withColumnRenamed(rais.columns[48], 'vl_rem_marco_sc')\n",
    "    .withColumnRenamed('Vl Rem Abril SC', 'vl_rem_abril_sc')\n",
    "    .withColumnRenamed('Vl Rem Maio SC', 'vl_rem_maio_sc')\n",
    "    .withColumnRenamed('Vl Rem Junho SC', 'vl_rem_junho_sc')\n",
    "    .withColumnRenamed('Vl Rem Julho SC', 'vl_rem_julho_sc')\n",
    "    .withColumnRenamed('Vl Rem Agosto SC', 'vl_rem_agosto_sc')\n",
    "    .withColumnRenamed('Vl Rem Setembro SC', 'vl_rem_setembro_sc')\n",
    "    .withColumnRenamed('Vl Rem Outubro SC', 'vl_rem_outubro_sc')\n",
    "    .withColumnRenamed('Vl Rem Novembro SC', 'vl_rem_novembro_sc')\n",
    "    .withColumnRenamed('Ano Chegada Brasil', 'ano_chegada_brasil')\n",
    "    .withColumnRenamed('Ind Trab Intermitente', 'ind_trab_intermitente')\n",
    "    .withColumnRenamed('Ind Trab Parcial', 'ind_trab_parcial')\n",
    ")"
   ]
  },
  {
   "cell_type": "code",
   "execution_count": null,
   "metadata": {},
   "outputs": [],
   "source": [
    "rais.select('ibge_subsetor').limit(10).show()"
   ]
  },
  {
   "cell_type": "code",
   "execution_count": null,
   "metadata": {},
   "outputs": [],
   "source": [
    "rais.rdd.getNumPartitions()"
   ]
  },
  {
   "cell_type": "markdown",
   "metadata": {},
   "source": [
    "# Construindo a variável de uf"
   ]
  },
  {
   "cell_type": "code",
   "execution_count": null,
   "metadata": {},
   "outputs": [],
   "source": [
    "# Para que o comando explain() funcione\n",
    "from py4j.java_gateway import java_import\n",
    "java_import(spark._sc._jvm, \"org.apache.spark.sql.api.python.*\")"
   ]
  },
  {
   "cell_type": "code",
   "execution_count": null,
   "metadata": {},
   "outputs": [],
   "source": [
    "rais = rais.withColumn(\"uf\", f.col(\"municipio\").cast('string').substr(1,2).cast('int'))"
   ]
  },
  {
   "cell_type": "markdown",
   "metadata": {},
   "source": [
    "# Corrigindo tipos das variáveis de renda e mês de desligamento"
   ]
  },
  {
   "cell_type": "code",
   "execution_count": null,
   "metadata": {},
   "outputs": [],
   "source": [
    "rais.printSchema()"
   ]
  },
  {
   "cell_type": "code",
   "execution_count": null,
   "metadata": {},
   "outputs": [],
   "source": [
    "rais.select(\n",
    "    'mes_desligamento'\n",
    ").show(10)"
   ]
  },
  {
   "cell_type": "code",
   "execution_count": null,
   "metadata": {},
   "outputs": [],
   "source": [
    "rais = (\n",
    "    rais\n",
    "    .withColumn(\"mes_desligamento\", f.col('mes_desligamento').cast('int'))\n",
    "    .withColumn(\"vl_remun_dezembro_nom\", f.regexp_replace(\"vl_remun_dezembro_nom\", ',', '.').cast('double'))\n",
    "    .withColumn(\"vl_remun_dezembro_sm\", f.regexp_replace(\"vl_remun_dezembro_sm\", ',', '.').cast('double'))\n",
    "    .withColumn(\"vl_remun_media_nom\", f.regexp_replace(\"vl_remun_media_nom\", ',', '.').cast('double'))\n",
    "    .withColumn(\"vl_remun_media_sm\", f.regexp_replace(\"vl_remun_media_sm\", ',', '.').cast('double'))\n",
    "    .withColumn(\"vl_rem_janeiro_sc\", f.regexp_replace(\"vl_rem_janeiro_sc\", ',', '.').cast('double'))\n",
    "    .withColumn(\"vl_rem_fevereiro_sc\", f.regexp_replace(\"vl_rem_fevereiro_sc\", ',', '.').cast('double'))\n",
    "    .withColumn(\"vl_rem_marco_sc\", f.regexp_replace(\"vl_rem_marco_sc\", ',', '.').cast('double'))\n",
    "    .withColumn(\"vl_rem_abril_sc\", f.regexp_replace(\"vl_rem_abril_sc\", ',', '.').cast('double'))\n",
    "    .withColumn(\"vl_rem_maio_sc\", f.regexp_replace(\"vl_rem_maio_sc\", ',', '.').cast('double'))\n",
    "    .withColumn(\"vl_rem_junho_sc\", f.regexp_replace(\"vl_rem_junho_sc\", ',', '.').cast('double'))\n",
    "    .withColumn(\"vl_rem_julho_sc\", f.regexp_replace(\"vl_rem_julho_sc\", ',', '.').cast('double'))\n",
    "    .withColumn(\"vl_rem_agosto_sc\", f.regexp_replace(\"vl_rem_agosto_sc\", ',', '.').cast('double'))\n",
    "    .withColumn(\"vl_rem_setembro_sc\", f.regexp_replace(\"vl_rem_setembro_sc\", ',', '.').cast('double'))\n",
    "    .withColumn(\"vl_rem_outubro_sc\", f.regexp_replace(\"vl_rem_outubro_sc\", ',', '.').cast('double'))\n",
    "    .withColumn(\"vl_rem_novembro_sc\", f.regexp_replace(\"vl_rem_novembro_sc\", ',', '.').cast('double'))\n",
    ")"
   ]
  },
  {
   "cell_type": "code",
   "execution_count": null,
   "metadata": {},
   "outputs": [],
   "source": [
    "(\n",
    "    rais\n",
    "    .coalesce(50)\n",
    "    .write.mode('overwrite')\n",
    "    .partitionBy('ano', 'uf')\n",
    "    .format('parquet')\n",
    "    .save('s3://igti-ney-rais-prod-processing-zone-127012818163/rais/')\n",
    ")"
   ]
  },
  {
   "cell_type": "markdown",
   "metadata": {},
   "source": [
    "# Lê dados em Parquet para análise"
   ]
  },
  {
   "cell_type": "code",
   "execution_count": null,
   "metadata": {},
   "outputs": [],
   "source": [
    "rais.groupby('cnae_2_0_classe').agg(f.count(f.lit(1))).show(50)"
   ]
  }
 ],
 "metadata": {
  "interpreter": {
   "hash": "f5ae38a19e60b990aa21cd87409ff8156633869ea0d6257fe7783dfcab29888b"
  },
  "kernelspec": {
   "display_name": "Python 3.6.5 ('base')",
   "language": "python",
   "name": "python3"
  },
  "language_info": {
   "codemirror_mode": {
    "name": "ipython",
    "version": 3
   },
   "file_extension": ".py",
   "mimetype": "text/x-python",
   "name": "python",
   "nbconvert_exporter": "python",
   "pygments_lexer": "ipython3",
   "version": "3.6.5"
  },
  "orig_nbformat": 4
 },
 "nbformat": 4,
 "nbformat_minor": 2
}
